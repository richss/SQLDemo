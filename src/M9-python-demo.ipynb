{
 "cells": [
  {
   "cell_type": "markdown",
   "metadata": {},
   "source": [
    "## Setting up connection"
   ]
  },
  {
   "cell_type": "code",
   "execution_count": 1,
   "metadata": {},
   "outputs": [
    {
     "name": "stdout",
     "output_type": "stream",
     "text": [
      "<mysql.connector.connection_cext.CMySQLConnection object at 0x0000026DFB29A1F0>\n"
     ]
    }
   ],
   "source": [
    "import mysql.connector as sql\n",
    "\n",
    "db = sql.connect(host='localhost',\n",
    "                 user='root',\n",
    "                 password='root', \n",
    "                 database = 'VideoGames') #adjust to your DB setup\n",
    "\n",
    "print(db)"
   ]
  },
  {
   "cell_type": "code",
   "execution_count": 2,
   "metadata": {},
   "outputs": [],
   "source": [
    "cursor = db.cursor()"
   ]
  },
  {
   "cell_type": "markdown",
   "metadata": {},
   "source": [
    "## Examples"
   ]
  },
  {
   "cell_type": "markdown",
   "metadata": {},
   "source": [
    "Example - Select Statement"
   ]
  },
  {
   "cell_type": "code",
   "execution_count": 4,
   "metadata": {},
   "outputs": [
    {
     "name": "stdout",
     "output_type": "stream",
     "text": [
      "[('Destiny 2', 2017, 'Activision', 'First-Person Shooter', 0), ('Goat Simulator', 2014, 'Coffee Stain Studios', 'Action', 0), ('Grand Theft Auto V', 2014, 'Rockstar', 'Action', 1), ('Minecraft', 2009, 'Microsoft', 'Sandbox, Survival', 1), ('Portal 2', 2011, 'Valve', 'Puzzle-platform', None), ('Team Fortress 2', 2007, 'Valve', 'First-person shooter', 1)]\n",
      "\n",
      "('Destiny 2', 2017, 'Activision', 'First-Person Shooter', 0)\n",
      "('Goat Simulator', 2014, 'Coffee Stain Studios', 'Action', 0)\n",
      "('Grand Theft Auto V', 2014, 'Rockstar', 'Action', 1)\n",
      "('Minecraft', 2009, 'Microsoft', 'Sandbox, Survival', 1)\n",
      "('Portal 2', 2011, 'Valve', 'Puzzle-platform', None)\n",
      "('Team Fortress 2', 2007, 'Valve', 'First-person shooter', 1)\n"
     ]
    }
   ],
   "source": [
    "query = 'SELECT * FROM VideoGames'\n",
    "cursor.execute(query)\n",
    "result = cursor.fetchall()\n",
    "\n",
    "print(result)\n",
    "print()\n",
    "\n",
    "for r in result:\n",
    "    print(r)"
   ]
  },
  {
   "cell_type": "markdown",
   "metadata": {},
   "source": [
    "Example - select statement with placeholder"
   ]
  },
  {
   "cell_type": "code",
   "execution_count": 7,
   "metadata": {},
   "outputs": [
    {
     "name": "stdout",
     "output_type": "stream",
     "text": [
      "('Minecraft', 2009, 'Microsoft', 'Sandbox, Survival', 1)\n",
      "('Team Fortress 2', 2007, 'Valve', 'First-person shooter', 1)\n"
     ]
    }
   ],
   "source": [
    "year = 2011\n",
    "\n",
    "query = 'SELECT * FROM VideoGames WHERE year < %s'\n",
    "cursor.execute(query,(year,))\n",
    "result = cursor.fetchall()\n",
    "for r in result:\n",
    "    print(r)"
   ]
  },
  {
   "cell_type": "markdown",
   "metadata": {},
   "source": [
    "Example - using the cursor to extract specific attributes."
   ]
  },
  {
   "cell_type": "code",
   "execution_count": 8,
   "metadata": {},
   "outputs": [
    {
     "name": "stdout",
     "output_type": "stream",
     "text": [
      "Minecraft, 2009\n",
      "Portal 2, 2011\n",
      "Team Fortress 2, 2007\n"
     ]
    }
   ],
   "source": [
    "year = 2014\n",
    "\n",
    "query = 'SELECT title, year FROM VideoGames WHERE year < %s'\n",
    "cursor.execute(query,(year,))\n",
    "for title, year in cursor:\n",
    "    print('{}, {}'.format(title, year))"
   ]
  },
  {
   "cell_type": "markdown",
   "metadata": {},
   "source": [
    "Example - wrapping query within a function."
   ]
  },
  {
   "cell_type": "code",
   "execution_count": 6,
   "metadata": {},
   "outputs": [
    {
     "name": "stdout",
     "output_type": "stream",
     "text": [
      "[('Destiny 2', 2017, 'Activision', 'First-Person Shooter', 0), ('Goat Simulator', 2014, 'Coffee Stain Studios', 'Action', 0), ('Grand Theft Auto V', 2014, 'Coffee Stain Studios', 'Action', 0), ('Minecraft', 2009, 'Microsoft', 'Sandbox, Survival', 0), ('Portal 2', 2011, 'Valve', 'Puzzle-platform', 0), ('Team Fortress 2', 2007, 'Valve', 'First-person shooter', 0)]\n",
      "\n",
      "('Destiny 2', 2017, 'Activision', 'First-Person Shooter', 0)\n",
      "('Goat Simulator', 2014, 'Coffee Stain Studios', 'Action', 0)\n",
      "('Grand Theft Auto V', 2014, 'Coffee Stain Studios', 'Action', 0)\n",
      "('Minecraft', 2009, 'Microsoft', 'Sandbox, Survival', 0)\n",
      "('Portal 2', 2011, 'Valve', 'Puzzle-platform', 0)\n",
      "('Team Fortress 2', 2007, 'Valve', 'First-person shooter', 0)\n"
     ]
    }
   ],
   "source": [
    "def query_videogames():\n",
    "    query = 'SELECT * FROM VideoGames'\n",
    "    cursor.execute(query)\n",
    "    result = cursor.fetchall()\n",
    "    return result\n",
    "\n",
    "\n",
    "results = query_videogames()\n",
    "\n",
    "print(results)\n",
    "\n",
    "print()\n",
    "for r in results:\n",
    "    print(r)"
   ]
  },
  {
   "cell_type": "markdown",
   "metadata": {},
   "source": [
    "Example - query with result elements accessed via array notation"
   ]
  },
  {
   "cell_type": "code",
   "execution_count": 7,
   "metadata": {},
   "outputs": [
    {
     "name": "stdout",
     "output_type": "stream",
     "text": [
      "3DS Minecraft 2009\n",
      "DROID Goat Simulator 2014\n",
      "DROID Minecraft 2009\n",
      "iOS Goat Simulator 2014\n",
      "iOS Minecraft 2009\n",
      "MAC Goat Simulator 2014\n",
      "MAC Minecraft 2009\n",
      "MAC Portal 2 2011\n",
      "MAC Team Fortress 2 2007\n",
      "NS Minecraft 2009\n",
      "PS4 Destiny 2 2017\n",
      "PS4 Goat Simulator 2014\n",
      "PS4 Minecraft 2009\n",
      "WiiU Minecraft 2009\n",
      "WIN Goat Simulator 2014\n",
      "WIN Minecraft 2009\n",
      "WIN Portal 2 2011\n",
      "WIN Team Fortress 2 2007\n",
      "XBO Destiny 2 2017\n",
      "XBO Goat Simulator 2014\n",
      "XBO Minecraft 2009\n"
     ]
    }
   ],
   "source": [
    "def game_release_detailed():\n",
    "    query = 'SELECT * FROM VideoGames NATURAL JOIN GameReleases NATURAL JOIN Platforms ORDER BY Platform'\n",
    "    cursor.execute(query)\n",
    "    result = cursor.fetchall()\n",
    "    for r in result:\n",
    "        print(r[0], r[1], r[2])\n",
    "        \n",
    "game_release_detailed()"
   ]
  },
  {
   "cell_type": "markdown",
   "metadata": {},
   "source": [
    "Example - insert operation"
   ]
  },
  {
   "cell_type": "code",
   "execution_count": 8,
   "metadata": {},
   "outputs": [
    {
     "name": "stdout",
     "output_type": "stream",
     "text": [
      "('Destiny 2', 2017, 'Activision', 'First-Person Shooter', 0)\n",
      "('Goat Simulator', 2014, 'Coffee Stain Studios', 'Action', 0)\n",
      "('Grand Theft Auto V', 2014, 'Coffee Stain Studios', 'Action', 0)\n",
      "('Minecraft', 2009, 'Microsoft', 'Sandbox, Survival', 0)\n",
      "('Portal 2', 2011, 'Valve', 'Puzzle-platform', 0)\n",
      "('Runaround', 2020, 'ERAU', 'Student Simulator', 0)\n",
      "('Team Fortress 2', 2007, 'Valve', 'First-person shooter', 0)\n"
     ]
    }
   ],
   "source": [
    "add_game = 'INSERT INTO VideoGames (title, year, publisher, genre, awards) values (%s, %s, %s, %s, %s)'\n",
    "game_data = ('Runaround', 2020, 'ERAU', 'Student Simulator', 0)\n",
    "\n",
    "cursor.execute(add_game, game_data)\n",
    "\n",
    "query = 'SELECT * FROM VideoGames'\n",
    "cursor.execute(query)\n",
    "result = cursor.fetchall()\n",
    "for r in result:\n",
    "    print(r)"
   ]
  },
  {
   "cell_type": "markdown",
   "metadata": {},
   "source": [
    "Example - delete operation"
   ]
  },
  {
   "cell_type": "code",
   "execution_count": 9,
   "metadata": {},
   "outputs": [
    {
     "name": "stdout",
     "output_type": "stream",
     "text": [
      "('Destiny 2', 2017, 'Activision', 'First-Person Shooter', 0)\n",
      "('Goat Simulator', 2014, 'Coffee Stain Studios', 'Action', 0)\n",
      "('Grand Theft Auto V', 2014, 'Coffee Stain Studios', 'Action', 0)\n",
      "('Minecraft', 2009, 'Microsoft', 'Sandbox, Survival', 0)\n",
      "('Portal 2', 2011, 'Valve', 'Puzzle-platform', 0)\n",
      "('Team Fortress 2', 2007, 'Valve', 'First-person shooter', 0)\n"
     ]
    }
   ],
   "source": [
    "delete_game = \"DELETE FROM VideoGames WHERE title='Runaround' and year=2020\"\n",
    "cursor.execute(delete_game)\n",
    "\n",
    "query = 'SELECT * FROM VideoGames'\n",
    "cursor.execute(query)\n",
    "result = cursor.fetchall()\n",
    "for r in result:\n",
    "    print(r)"
   ]
  },
  {
   "cell_type": "markdown",
   "metadata": {},
   "source": [
    "## Close DB Connection"
   ]
  },
  {
   "cell_type": "code",
   "execution_count": 10,
   "metadata": {},
   "outputs": [],
   "source": [
    "db.close()"
   ]
  }
 ],
 "metadata": {
  "kernelspec": {
   "display_name": "Python 3",
   "language": "python",
   "name": "python3"
  },
  "language_info": {
   "codemirror_mode": {
    "name": "ipython",
    "version": 3
   },
   "file_extension": ".py",
   "mimetype": "text/x-python",
   "name": "python",
   "nbconvert_exporter": "python",
   "pygments_lexer": "ipython3",
   "version": "3.8.3"
  }
 },
 "nbformat": 4,
 "nbformat_minor": 4
}
